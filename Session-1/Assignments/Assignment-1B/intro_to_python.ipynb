{
 "cells": [
  {
   "cell_type": "markdown",
   "metadata": {},
   "source": [
    "# Assignment 1B\n",
    "\n",
    "## Getting Started with Python\n",
    "\n",
    "Python is one of the most widely used programming languages for Machine Learning and Data Science. Numerous resources are available online to learn Python. Some of them are listed below.\n",
    "\n",
    "* https://docs.python.org/3/tutorial/\n",
    "* https://www.datacamp.com/courses/intro-to-python-for-data-science\n",
    "* https://www.scipy-lectures.org/_downloads/ScipyLectures-simple.pdf\n",
    "\n",
    "For this assignment you will be solving some simple problems using Python. \n",
    "\n",
    "So first go through some of these tutorials, get clear with the basics of Python and then solve the questions."
   ]
  },
  {
   "cell_type": "markdown",
   "metadata": {},
   "source": [
    "### Question 1.\n",
    "\n",
    "Implement any sorting algorithm (merge sort, bubble sort, insertion sort, etc.) to take in an array of integers and sort it in **descending order**\n",
    "\n",
    "Write your code in the following cell."
   ]
  },
  {
   "cell_type": "code",
   "execution_count": 3,
   "metadata": {},
   "outputs": [
    {
     "name": "stdout",
     "output_type": "stream",
     "text": [
      "hello\n"
     ]
    }
   ],
   "source": [
    "print(\"hello\")"
   ]
  },
  {
   "cell_type": "markdown",
   "metadata": {},
   "source": [
    "### Question 2.\n",
    "\n",
    "Implement the binary search algorithm, to take in an array of integers in sorted order and search for a given key\n",
    "\n",
    "Write your code in the following cell."
   ]
  },
  {
   "cell_type": "code",
   "execution_count": null,
   "metadata": {},
   "outputs": [],
   "source": []
  },
  {
   "cell_type": "markdown",
   "metadata": {},
   "source": [
    "### Question 3.\n",
    "\n",
    "Implement an algorithm to search for a substring within a given string.\n",
    "\n",
    "eg. For string = 'hello', substring to search = 'ell' output should be True.\n",
    "\n",
    "Write your code in the following cell."
   ]
  },
  {
   "cell_type": "code",
   "execution_count": null,
   "metadata": {},
   "outputs": [],
   "source": []
  }
 ],
 "metadata": {
  "kernelspec": {
   "display_name": "Python 3",
   "language": "python",
   "name": "python3"
  },
  "language_info": {
   "codemirror_mode": {
    "name": "ipython",
    "version": 3
   },
   "file_extension": ".py",
   "mimetype": "text/x-python",
   "name": "python",
   "nbconvert_exporter": "python",
   "pygments_lexer": "ipython3",
   "version": "3.6.4"
  }
 },
 "nbformat": 4,
 "nbformat_minor": 2
}
