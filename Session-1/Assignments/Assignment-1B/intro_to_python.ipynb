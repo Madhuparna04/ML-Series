{
 "cells": [
  {
   "cell_type": "markdown",
   "metadata": {},
   "source": [
    "# Assignment 1B\n",
    "\n",
    "## Getting Started with Python\n",
    "\n",
    "Python is one of the most widely used programming languages for Machine Learning and Data Science. Numerous resources are available online to learn Python. Some of them are listed below.\n",
    "\n",
    "* https://docs.python.org/3/tutorial/\n",
    "* https://www.datacamp.com/courses/intro-to-python-for-data-science\n",
    "* https://www.scipy-lectures.org/_downloads/ScipyLectures-simple.pdf\n",
    "\n",
    "For this assignment you will be solving some simple problems using Python. \n",
    "\n",
    "So first go through some of these tutorials, get clear with the basics of Python and then solve the questions."
   ]
  },
  {
   "cell_type": "markdown",
   "metadata": {},
   "source": [
    "### Question 1.\n",
    "\n",
    "Implement any sorting algorithm (merge sort, bubble sort, insertion sort, etc.) to take in an array of integers and sort it in **descending order**\n",
    "\n",
    "Write your code in the following cell."
   ]
  },
  {
   "cell_type": "code",
   "execution_count": 7,
   "metadata": {},
   "outputs": [
    {
     "name": "stdout",
     "output_type": "stream",
     "text": [
      "[700, 90, 8, 6, 5, 1]\n"
     ]
    }
   ],
   "source": [
    "m = [1,8,6,700,5,90]\n",
    "max=0\n",
    "for i in range(0, 6):\n",
    "    for j in range(i,6):\n",
    "        if m[j]>m[i]:\n",
    "            temp=m[j]\n",
    "            m[j]=m[i]\n",
    "            m[i]=temp\n",
    "        \n",
    "        \n",
    "    \n",
    "        \n",
    "print (m)\n",
    "\n",
    "\n",
    "\n"
   ]
  },
  {
   "cell_type": "markdown",
   "metadata": {},
   "source": [
    "### Question 2.\n",
    "\n",
    "Implement the binary search algorithm, to take in an array of integers in sorted order and search for a given key\n",
    "\n",
    "Write your code in the following cell."
   ]
  },
  {
   "cell_type": "code",
   "execution_count": 6,
   "metadata": {},
   "outputs": [
    {
     "name": "stdout",
     "output_type": "stream",
     "text": [
      "8\n"
     ]
    }
   ],
   "source": [
    "p = [5 , 6 ,7 ,8,4,710,11,12,13]\n",
    "key = 13\n",
    "flag = 0\n",
    "high =len(p)-1\n",
    "\n",
    "low=0\n",
    "mid = (high+low)/2\n",
    "while high >= low:\n",
    "    mid=int((high+low)/2)\n",
    "    if p[mid] == key:\n",
    "        ans=mid\n",
    "        flag=1\n",
    "        break\n",
    "        \n",
    "    elif p[mid]<key:\n",
    "        low=mid+1\n",
    "    else:\n",
    "        high = mid-1\n",
    "    \n",
    "if flag ==1:  \n",
    "     print (ans)\n",
    "else :\n",
    "    print ( '-1')\n",
    "    \n",
    "\n",
    "\n",
    " "
   ]
  },
  {
   "cell_type": "markdown",
   "metadata": {},
   "source": [
    "### Question 3.\n",
    "\n",
    "Implement an algorithm to search for a substring within a given string.\n",
    "\n",
    "eg. For string = 'hello', substring to search = 'ell' output should be True.\n",
    "\n",
    "Write your code in the following cell."
   ]
  },
  {
   "cell_type": "code",
   "execution_count": 34,
   "metadata": {},
   "outputs": [
    {
     "name": "stdout",
     "output_type": "stream",
     "text": [
      "0\n"
     ]
    }
   ],
   "source": [
    "k = 'hello'\n",
    "m= 'lol'\n",
    "ans=0\n",
    "i=0\n",
    "\n",
    "for i in range(0,len(k)-len(m)+1):\n",
    "    flag=1\n",
    "    for j in range(0,len(m)):\n",
    "        if k[i+j]!=m[j]:\n",
    "            flag=0\n",
    "            break\n",
    "        \n",
    "    if flag==1:\n",
    "        ans=1\n",
    "        break\n",
    "        \n",
    "    \n",
    "    \n",
    "print (ans)\n",
    "        \n",
    "            \n",
    "\n",
    "\n",
    "\n",
    "\n"
   ]
  },
  {
   "cell_type": "code",
   "execution_count": null,
   "metadata": {},
   "outputs": [],
   "source": []
  },
  {
   "cell_type": "code",
   "execution_count": null,
   "metadata": {},
   "outputs": [],
   "source": []
  }
 ],
 "metadata": {
  "kernelspec": {
   "display_name": "Python 3",
   "language": "python",
   "name": "python3"
  },
  "language_info": {
   "codemirror_mode": {
    "name": "ipython",
    "version": 3
   },
   "file_extension": ".py",
   "mimetype": "text/x-python",
   "name": "python",
   "nbconvert_exporter": "python",
   "pygments_lexer": "ipython3",
   "version": "3.6.4"
  }
 },
 "nbformat": 4,
 "nbformat_minor": 2
}
